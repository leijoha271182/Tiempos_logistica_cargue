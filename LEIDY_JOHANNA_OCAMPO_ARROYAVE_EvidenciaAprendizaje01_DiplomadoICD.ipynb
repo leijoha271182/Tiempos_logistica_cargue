{
  "nbformat": 4,
  "nbformat_minor": 0,
  "metadata": {
    "colab": {
      "provenance": [],
      "include_colab_link": true
    },
    "kernelspec": {
      "name": "python3",
      "display_name": "Python 3"
    },
    "language_info": {
      "name": "python"
    }
  },
  "cells": [
    {
      "cell_type": "markdown",
      "metadata": {
        "id": "view-in-github",
        "colab_type": "text"
      },
      "source": [
        "<a href=\"https://colab.research.google.com/github/leijoha271182/Tiempos_logistica_cargue/blob/main/LEIDY_JOHANNA_OCAMPO_ARROYAVE_EvidenciaAprendizaje01_DiplomadoICD.ipynb\" target=\"_parent\"><img src=\"https://colab.research.google.com/assets/colab-badge.svg\" alt=\"Open In Colab\"/></a>"
      ]
    },
    {
      "cell_type": "markdown",
      "source": [
        "<div align=\"left\">\n",
        "<p><img alt=\"IUDigital\" height=\"140px\" src=\"https://www.iudigital.edu.co/Style%20Library/images/logo-escudo.png\" align=\"left\" hspace=\"10px\" vspace=\"0px\"></p></div>\n",
        "<div> </div>\n",
        "<div align=\"right\">\n",
        "<p><img alt=\"Posgrado\" height=\"140px\" src=\"https://www.iudigital.edu.co/OfertaEducativa/PublishingImages/Paginas/Tecnologia-en-Desarrollo-de-Software/19072021_Tecnologia_Dllo_Software_1200px.jpg\" align=\"right\" hspace=\"10px\" vspace=\"10px\"></p></div>\n",
        "<br></br>\n",
        "<br></br>\n",
        "<br></br>\n",
        "<br></br>\n",
        "<p>\n",
        "<h1> <b> Tarea 1 - Búsqueda de Información </b> </h1>\n",
        "<hr size=10 noshade color=\"red\">\n",
        "</p>"
      ],
      "metadata": {
        "id": "GP81L3dJOr6k"
      }
    },
    {
      "cell_type": "markdown",
      "source": [
        "# **Evidencia de Aprendizaje 1**\n",
        "\n",
        "## Búsqueda de información para modelos de Machine Learning"
      ],
      "metadata": {
        "id": "GbrNxOWfPG6I"
      }
    },
    {
      "cell_type": "code",
      "source": [
        "#@markdown # Ingresar el nombre de los estudiantes\n",
        "Estudiante_1 = \"Diana Patricia Galeano Mesa\" #@param {type:\"string\"}\n",
        "Estudiante_2 = \"Leidy Johanna Ocampo Arroyave\" #@param {type:\"string\"}\n",
        "\n"
      ],
      "metadata": {
        "id": "GWJvViORSrfv"
      },
      "execution_count": null,
      "outputs": []
    },
    {
      "cell_type": "markdown",
      "source": [
        "## **Descripción de la Evidencia de Aprendizaje**\n",
        "Para la presente actividad se debe presentar un documento de Google Colab con donde usando Markdown se describa el procedimiento realizado para encontrar información relacionada con el modelo que vamos a realizar. El documento de Google Colab debe contar con introducción, planteamiento del problema, descripción del documento seleccionado y conclusiones. Adicionalmente se debe cargar este documento en GitHub y realizar una carga de información mostrando sus primeros y últimos cinco registros, así como un análisis descriptivo de los datos."
      ],
      "metadata": {
        "id": "k1bjiUAGPNR3"
      }
    },
    {
      "cell_type": "markdown",
      "source": [
        "## **Instrucciones iniciales**\n",
        "\n",
        "1.  Defina una web de donde descargará la información.\n",
        "2.  Existen múltiples fuentes de información, recuerda referenciar la que utilizaste y la URL de los datos."
      ],
      "metadata": {
        "id": "FYBrHWvUPSmG"
      }
    },
    {
      "cell_type": "markdown",
      "source": [
        "## **Instrucciones de la Evidencia de Aprendizaje:**\n",
        "A partir de la información obtenida modifique el documento Google Colab cargado en el presente documento o modificado directamente de la tarea de Google Classroom.\n",
        "\n",
        "Describa el procedimiento realizado para la obtención de los datos.\n",
        "\n",
        "El documento Google Colab debe contar con:\n",
        "*   Introducción\n",
        "*   Planteamiento del problema\n",
        "*   Descripción del dataset\n",
        "*   Descripción de cada columna del dataset\n",
        "*   Lectura del documento desde GitHub\n",
        "*   Mostrar las primeras y ultimas cinco filas\n",
        "*   Realizar un análisis descriptivo de los datos.\n",
        "*   Respuestas a Ruta Metodológica\n",
        "*   Conclusiones\n",
        "\n",
        "## **Desarrollo de Ruta Metodológica**\n",
        "Después de analizar la información extraída y transformada, responde a las siguientes preguntas:\n",
        "\n",
        "*   ¿Qué uso podríamos darle al dataset?\n",
        "*   ¿Existe alguna relación entre las columnas del documento?\n",
        "*   ¿Qué podríamos predecir o clasificar usando estos datos?\n",
        "*   ¿Qué observaciones tienes de la pagina de donde descargaste la información?\n",
        "\n"
      ],
      "metadata": {
        "id": "MUv6LkjWPlNP"
      }
    },
    {
      "cell_type": "markdown",
      "source": [
        "### Solución"
      ],
      "metadata": {
        "id": "Vep5us-DPzZz"
      }
    },
    {
      "cell_type": "markdown",
      "source": [
        "<div align=\"left\">\n",
        "<p><img alt=\"Ministerio de Transporte\" height=\"50px\" src= https://plc.mintransporte.gov.co/Portals/0/LogoMintransporteDoble.jpg?ver=2023-05-29-064645-627 align=\"left\" hspace=\"10px\" vspace=\"0px\"></p></div>\n",
        "\n",
        "<div align =\"center\">\n",
        "<h1> <b>   REGISTRO DE VIAJE MUNICIPAL </b> </h1>\n",
        " <h2> <b> Ministerio de Transporte-Registro de tiempos logísticos de viaje municipal</b> </h1>\n",
        " </div>\n",
        "\n",
        "\n",
        "<h2> <b>   INTRODUCCIÓN </b> </h2>\n",
        "<div align =\"justify\">\n",
        "<p><br>El Ministerio de Transporte ha buscado realizar seguimiento al proceso de logística del transporte de carga, con el propósito de reconocer y controlar el movimiento de estos vehículos al interior del país y en cumplimiento normativo de regulación del servicio público.  Para llevar a cabo dicho control y vigilancia ha establecido algunos sistemas de información que han facilitado esta función como lo es el registro de Viaje Municipal por parte de las empresas de transporte, que permite conocer información sobre las condiciones y características de cada viaje, lugar pactado para cargue y descargue de mercancía, tiempos de desplazamiento, vehículo responsable, entre otros datos importantes.</br>\n",
        "<br>Logística se entiende como un conjunto de procesos de la cadena de abastecimiento que permite planificar, implementar y controlar el eficiente y efectivo transporte de bienes, materiales, maquinaria, entre otros. Un adecuado análisis logístico facilitará el desempeño y la productividad del proceso de transporte de carga reduciendo costos, tiempo y mejorar la prestación del servicio, garantizando competitividad y desarrollo económico de municipios y regiones.</br>\n",
        "<br>Esta información permite que el Ministerio pueda identificar vías de mayor tránsito, requerimientos de seguridad y otros insumos que permitirán adoptar políticas públicas y tomar decisiones en los niveles políticos necesarios.</br>\n",
        " </p>\n",
        " </div>\n"
      ],
      "metadata": {
        "id": "fm7cBnYLplc0"
      }
    },
    {
      "cell_type": "markdown",
      "source": [
        "<h2> <b>   PLANTEAMIENTO DEL PROBLEMA </b> </h2>\n",
        "<div align =\"justify\">\n",
        "<p>El transporte de carga en Colombia es un factor fundamental de la economía, pues a través de este los productos son trasladados de forma eficiente entre los diferentes departamentos y municipios.  La movilización de los diferentes vehículos de carga, su control y vigilancia son responsabilidad del Ministerio de Transporte quien a través de diferentes sistemas de información y/o plataformas ha facilitado el conocimiento de las características de cada traslado y o flujo de los vehículos de carga.\n",
        "\n",
        "<br>Actualmente se cuenta con información que describe ciudades de salida y de destino, hora de viaje, tipo de carga, producto, tiempo de carga y descarga, sin embargo esta información marca un punto de partida importante para calcular la cantidad de productos, materiales y otros que se transportan por las carreteras del país, siendo esta información valiosa para reconocer las necesidades de vehículos, carreteras y mejoras a la infraestructura que deberán realizarse para garantizar el flujo vehicular en cinco o diez años.<br>\n",
        "\n",
        "<br>Se hace necesario mejorar la eficiencia logística con modelos predictivos que permitan cuantificar o proyectar las necesidades de carga del país y de esta manera establecer políticas de transporte que faciliten la movilización de productos, materiales entre otros que son de necesidad de la población colombiana</br>\n",
        " </p>\n",
        " </div>"
      ],
      "metadata": {
        "id": "TP3qjfaP_bG6"
      }
    },
    {
      "cell_type": "markdown",
      "source": [
        "<h2> <b> DESCRIPCIÓN DEL DATASET </b> </h2>\n",
        "<div align =\"justify\">\n",
        "<p><br>A continuación se presenta el conjunto de datos relacionada con los tiempos logísticos de viajes del transporte carga y que será fuente de información para los diferentes análisis descriptivos y predictivos. Esta información fue obtenida desde la página oficial del Ministerio de Transporte y el grupo de Logística, quien a través del sistema de información Registro Nacional Despacho de Carga-RNDC recoge los datos del transporte logístico.</br>\n",
        "<br>Esta información es fundamental para validar los manifiestos de carga que las empresas transportadoras deben generar y así hacer efectivos procesos de vigilancia y control, en términos de tiempos de desplazamiento, tiempos de carga y descarga, descripción de la carga, entre otros.</br>\n",
        "<br>Se cuenta con un total de 76.456 registros del año 2021 y 26 varaibles que permiten abordar temas como ciudad de cargue y descargue, producto transportado, cantidad, tiempos de cargue y descargue, horas de viaje, valor pagado entre otras que facilitarán el entendimiento y diseño de un modelo predictivo que oriente la formulación de políticas públicas.</br>\n",
        "</p>\n"
      ],
      "metadata": {
        "id": "Uu2EMa2j_3Eh"
      }
    },
    {
      "cell_type": "markdown",
      "source": [
        "<h2> <b> DESCRIPCIÓN DE CADA COLUMNA DEL DATASET </b> </h2>\n",
        "\n",
        "<table class=\"default\">\n",
        "  <tr>\n",
        "    <th scope=\"row\">NOMBRE DE LA VARIABLE</th>\n",
        "    <th>DESCRIPCIÓN DE LA VARIABLE</th>\n",
        "    <th>TIPO DE VARIABLE</th>\n",
        "    <th>FORMATO</th>\n",
        "  </tr>\n",
        "\n",
        "  <tr>\n",
        "    <th>AÑO/MES</th>\n",
        "    <td>Describe el año y el mes en el cual se genera el transporte</td>\n",
        "    <td>Numérica</td>\n",
        "    <td>Entero</td>\n",
        "  </tr>\n",
        "\n",
        "  <tr>\n",
        "    <th>NATURALEZA</th>\n",
        "    <td>Describe el tipo de carga que se transporta</td>\n",
        "    <td>Texto</td>\n",
        "    <td><br>Carga Normal</br> <br>Carga Peligrosa</br><br>Refrigerada</br><br> Desechos Peligrosos</br> <br>Carga Extradimensionada</br><br>Semovientes</br> <br>Carga Extrapesada</br></td>\n",
        "  </tr>\n",
        "\n",
        "  <tr>\n",
        "    <th>COD_PRODUCTO</th>\n",
        "    <td>Establece el código del producto que se transporta</td>\n",
        "    <td>Texto</td>\n",
        "    <td></td>\n",
        "  </tr>\n",
        "\n",
        " <tr>\n",
        "    <th>PRODUCTO</th>\n",
        "    <td>Describe el producto que se transporta</td>\n",
        "    <td>Texto</td>\n",
        "    <td></td>\n",
        "  </tr>\n",
        "\n",
        "   <tr>\n",
        "    <th>CANTIDAD</th>\n",
        "    <td>Describe la cantidad del producto que se transporta</td>\n",
        "    <td> </td>\n",
        "    <td> </td>\n",
        "  </tr>\n",
        "\n",
        "   <tr>\n",
        "    <th>UNID_MEDIDA</th>\n",
        "    <td>Describe la unidad de medida del producto transportado</td>\n",
        "    <td>Texto</td>\n",
        "    <td><br>Kilogramos</br><br>Galones</br></td>\n",
        "  </tr>\n",
        "\n",
        "   <tr>\n",
        "    <th>CODIGO_CARGUE</th>\n",
        "    <td>Describe el código de la ciudad de cargue /h</td>\n",
        "    <td>Numérico</td>\n",
        "    <td>Entero</td>\n",
        "  </tr>\n",
        "<tr>\n",
        "    <th>CARGUE</th>\n",
        "    <td>Describe la ciudad de cargue /h</td>\n",
        "    <td>Texto</td>\n",
        "    <td></td>\n",
        "  </tr>\n",
        "\n",
        "<tr>\n",
        "    <th>CODIGO_DESCARGUE</th>\n",
        "    <td>Describe el código de la ciudad de descargue /h</td>\n",
        "    <td>Numérico</td>\n",
        "    <td>Entero</td>\n",
        "  </tr>\n",
        "<tr>\n",
        "    <th>DESCARGUE</th>\n",
        "    <td>Describe la ciudad de descargue /h</td>\n",
        "    <td>Texto</td>\n",
        "    <td></td>\n",
        "  </tr>\n",
        "\n",
        "   <tr>\n",
        "    <th>HORAS DE VIAJE</th>\n",
        "    <td>Describe el número de horas de viaje</td>\n",
        "    <td>Numérica</td>\n",
        "    <td>Decimal</td>\n",
        "  </tr>\n",
        "\n",
        "   <tr>\n",
        "    <th>HORAS_ESPERA_CARGUE</th>\n",
        "    <td>Describe el número de horas de espera para el cargue de mercancía</td>\n",
        "    <td>Numérica</td>\n",
        "    <td>Decimal</td>\n",
        "  </tr>\n",
        "<tr>\n",
        "    <th>HORAS_CARGUE</th>\n",
        "    <td>Describe el número de horas de cargue de mercancía</td>\n",
        "    <td>Numérica</td>\n",
        "    <td>Decimal</td>\n",
        "  </tr>\n",
        "  <tr>\n",
        "    <th>HORAS_ESPERA_DESCARGUE</th>\n",
        "    <td>Describe el número de horas de espera para el descargue de mercancía</d>\n",
        "    <td>Numérica</td>\n",
        "    <td>Decimal</td>\n",
        "  </tr>\n",
        "  <tr>\n",
        "    <th>HORAS_DESCARGUE</th>\n",
        "    <td>Describe el número de horas de descargue de mercancía</td>\n",
        "    <td>Numérica</td>\n",
        "    <td>decimal</td>\n",
        "  </tr>\n",
        "  <tr>\n",
        "    <th>VALOR_PACTADO</th>\n",
        "    <td>Describe el valor pactado del viaje realizado</td>\n",
        "    <td>Numérica</td>\n",
        "    <td>ENtero</td>\n",
        "  </tr>\n",
        "  <tr>\n",
        "    <th>VALOR_PAGADO</th>\n",
        "    <td>Describe el valor pagado del viaje realizado</td>\n",
        "    <td>Numérica</td>\n",
        "    <td> </td>\n",
        "  </tr>\n",
        "  <tr>\n",
        "    <th>CANTIDAD_REMESAS_VIAJE</th>\n",
        "    <td>Describe la cantidad de remesas del viaje</td>\n",
        "    <td>Numérica</td>\n",
        "    <td>Entero</td>\n",
        "  </tr>\n",
        "  <tr>\n",
        "    <th>EMPRESA_TRANSPORTE</th>\n",
        "    <td>Describe el código de la empresa de transporte vinculada</td>\n",
        "    <td>texto</td>\n",
        "    <td></td>\n",
        "  </tr>\n",
        "  <tr>\n",
        "    <th>PLACA</th>\n",
        "    <td>Describe la placa del vehículo</td>\n",
        "    <td>Texto</td>\n",
        "    <td></td>\n",
        "  </tr>\n",
        "  <tr>\n",
        "    <th>CONDUCTOR</th>\n",
        "    <td>Describe el nombre del conductor</td>\n",
        "    <td>Texto</td>\n",
        "    <td></td>\n",
        "  </tr>\n",
        " </table>\n",
        "\n"
      ],
      "metadata": {
        "id": "4OwxoRUIHWxP"
      }
    },
    {
      "cell_type": "code",
      "source": [
        "import pandas as pd\n",
        "ruta = 'https://raw.githubusercontent.com/leijoha271182/Tiempos_logistica_cargue/1e2d8a12c02b91ebe749be3776d8fc3865f4100d/Data/Tiempos_Logisticos_vehiculos_de_carga_Trabajo.csv'\n",
        "print(df.head())\n",
        "print(df.tail())\n"
      ],
      "metadata": {
        "colab": {
          "base_uri": "https://localhost:8080/"
        },
        "id": "5lS7zvdBR_sB",
        "outputId": "ad19ebbb-ee69-4302-8563-6acb7b2ac780"
      },
      "execution_count": 3,
      "outputs": [
        {
          "output_type": "stream",
          "name": "stdout",
          "text": [
            "     NATURALEZA COD_PRODUCTO  \\\n",
            "0  Carga Normal         9880   \n",
            "1  Carga Normal         9880   \n",
            "2  Carga Normal         9880   \n",
            "3  Carga Normal         9880   \n",
            "4  Carga Normal         9880   \n",
            "\n",
            "                                            PRODUCTO CANTIDAD UNID_MEDIDA  \\\n",
            "0  OTROS MISCELANEOS CONTENIDOS EN PAQUETES ( PAQ...     3.36  Kilogramos   \n",
            "1  OTROS MISCELANEOS CONTENIDOS EN PAQUETES ( PAQ...     3.84  Kilogramos   \n",
            "2  OTROS MISCELANEOS CONTENIDOS EN PAQUETES ( PAQ...     4.44  Kilogramos   \n",
            "3  OTROS MISCELANEOS CONTENIDOS EN PAQUETES ( PAQ...     2.76  Kilogramos   \n",
            "4  OTROS MISCELANEOS CONTENIDOS EN PAQUETES ( PAQ...      3.6  Kilogramos   \n",
            "\n",
            "   CODIGO_CARGUE              CARGUE  CODIGO_DESCARGUE            DESCARGUE  \\\n",
            "0       25286000  FUNZA CUNDINAMARCA          85440000  VILLANUEVA CASANARE   \n",
            "1       25286000  FUNZA CUNDINAMARCA          11001000  BOGOTA BOGOTA D. C.   \n",
            "2        5360000    ITAGUI ANTIOQUIA          23182000        CHINU CORDOBA   \n",
            "3       13001000   CARTAGENA BOLIVAR          68190000  CIMITARRA SANTANDER   \n",
            "4       25286000  FUNZA CUNDINAMARCA          11001000  BOGOTA BOGOTA D. C.   \n",
            "\n",
            "   HORAS_VIAJE  HORAS_ESPERA_CARGUE  HORAS_CARGUE  HORAS_ESPERA_DESCARGUE  \\\n",
            "0        14.97                 3.83          0.17                    3.18   \n",
            "1        22.13                 3.18          1.67                    1.18   \n",
            "2        15.13                 1.83          0.83                    2.00   \n",
            "3        27.47                 2.83          1.68                    4.00   \n",
            "4        23.63                 3.67          1.68                    3.00   \n",
            "\n",
            "   HORAS_DESCARGUE  VALOR_PACTADO  VALOR_PAGADO  CANTIDAD_REMESAS_VIAJE  \\\n",
            "0             1.50            0.0           0.0                       1   \n",
            "1             1.85            0.0           0.0                       1   \n",
            "2             1.68            0.0           0.0                       1   \n",
            "3             1.35      2090424.0     2090424.0                       1   \n",
            "4             2.33            0.0           0.0                       1   \n",
            "\n",
            "   EMPRESA_TRANSPORTE    PLACA  CONDUCTOR  \n",
            "0                 335    24234     308951  \n",
            "1                 335    24234     308951  \n",
            "2                 335  1466282     178943  \n",
            "3                 335   367173     146456  \n",
            "4                 335   177520     319848  \n",
            "         NATURALEZA COD_PRODUCTO  \\\n",
            "76451  Carga Normal         3802   \n",
            "76452  Carga Normal         2306   \n",
            "76453  Carga Normal         3802   \n",
            "76454  Carga Normal         3802   \n",
            "76455  Carga Normal         3802   \n",
            "\n",
            "                                                PRODUCTO CANTIDAD UNID_MEDIDA  \\\n",
            "76451  PRODUCTOS DIVERSOS DE LAS INDUSTRIAS QUÍMICAS-...    32.66  Kilogramos   \n",
            "76452  RESIDUOS Y DESPERDICIOS DE LAS INDUSTRIAS ALIM...     10.0  Kilogramos   \n",
            "76453  PRODUCTOS DIVERSOS DE LAS INDUSTRIAS QUÍMICAS-...    34.33  Kilogramos   \n",
            "76454  PRODUCTOS DIVERSOS DE LAS INDUSTRIAS QUÍMICAS-...     34.0  Kilogramos   \n",
            "76455  PRODUCTOS DIVERSOS DE LAS INDUSTRIAS QUÍMICAS-...    35.96  Kilogramos   \n",
            "\n",
            "       CODIGO_CARGUE                  CARGUE  CODIGO_DESCARGUE  \\\n",
            "76451       25793000      TAUSA CUNDINAMARCA          76109000   \n",
            "76452        8001000  BARRANQUILLA ATLANTICO          73408000   \n",
            "76453       25793000      TAUSA CUNDINAMARCA           8001000   \n",
            "76454       15757000            SOCHA BOYACA          54001000   \n",
            "76455       25224000   CUCUNUBA CUNDINAMARCA          76109000   \n",
            "\n",
            "                          DESCARGUE  HORAS_VIAJE  HORAS_ESPERA_CARGUE  \\\n",
            "76451  BUENAVENTURA VALLE DEL CAUCA         22.0                 0.00   \n",
            "76452                 LERIDA TOLIMA        118.4                 0.00   \n",
            "76453        BARRANQUILLA ATLANTICO         48.0                 0.98   \n",
            "76454     CUCUTA NORTE DE SANTANDER         50.0                 1.18   \n",
            "76455  BUENAVENTURA VALLE DEL CAUCA         22.0                 0.00   \n",
            "\n",
            "       HORAS_CARGUE  HORAS_ESPERA_DESCARGUE  HORAS_DESCARGUE  VALOR_PACTADO  \\\n",
            "76451          2.00                    0.00             2.00      2675800.0   \n",
            "76452          0.60                    0.00             0.60      1400000.0   \n",
            "76453          0.98                    0.50             0.50      3864000.0   \n",
            "76454          0.75                    0.77             2.27      2720000.0   \n",
            "76455          2.00                    0.00             2.00      2743800.0   \n",
            "\n",
            "       VALOR_PAGADO  CANTIDAD_REMESAS_VIAJE  EMPRESA_TRANSPORTE    PLACA  \\\n",
            "76451     2675800.0                       1                3514    48638   \n",
            "76452     1400000.0                       1                1197   993280   \n",
            "76453     3864000.0                       1                1108   260179   \n",
            "76454     2720000.0                       1                2011    30583   \n",
            "76455     2743800.0                       1                3514  1477018   \n",
            "\n",
            "       CONDUCTOR  \n",
            "76451      94252  \n",
            "76452     145283  \n",
            "76453      97353  \n",
            "76454     131952  \n",
            "76455     165417  \n"
          ]
        }
      ]
    },
    {
      "cell_type": "code",
      "source": [
        "import pandas as pd\n",
        "ruta = 'https://raw.githubusercontent.com/leijoha271182/Tiempos_logistica_cargue/1e2d8a12c02b91ebe749be3776d8fc3865f4100d/Data/Tiempos_Logisticos_vehiculos_de_carga_Trabajo.csv'\n",
        "df = pd.read_csv(ruta, sep=\";\")\n",
        "df.dtypes"
      ],
      "metadata": {
        "colab": {
          "base_uri": "https://localhost:8080/"
        },
        "id": "NqPZvmRIORB1",
        "outputId": "ac921fb1-95df-42b4-8033-5f4441d87159"
      },
      "execution_count": 2,
      "outputs": [
        {
          "output_type": "stream",
          "name": "stderr",
          "text": [
            "<ipython-input-2-e6d826b225f5>:3: DtypeWarning: Columns (3) have mixed types. Specify dtype option on import or set low_memory=False.\n",
            "  df = pd.read_csv(ruta, sep=\";\")\n"
          ]
        },
        {
          "output_type": "execute_result",
          "data": {
            "text/plain": [
              "NATURALEZA                 object\n",
              "COD_PRODUCTO               object\n",
              "PRODUCTO                   object\n",
              "CANTIDAD                   object\n",
              "UNID_MEDIDA                object\n",
              "CODIGO_CARGUE               int64\n",
              "CARGUE                     object\n",
              "CODIGO_DESCARGUE            int64\n",
              "DESCARGUE                  object\n",
              "HORAS_VIAJE               float64\n",
              "HORAS_ESPERA_CARGUE       float64\n",
              "HORAS_CARGUE              float64\n",
              "HORAS_ESPERA_DESCARGUE    float64\n",
              "HORAS_DESCARGUE           float64\n",
              "VALOR_PACTADO             float64\n",
              "VALOR_PAGADO              float64\n",
              "CANTIDAD_REMESAS_VIAJE      int64\n",
              "EMPRESA_TRANSPORTE          int64\n",
              "PLACA                       int64\n",
              "CONDUCTOR                   int64\n",
              "dtype: object"
            ]
          },
          "metadata": {},
          "execution_count": 2
        }
      ]
    },
    {
      "cell_type": "markdown",
      "source": [
        "## **Realizar un análisis descriptivo de los datos:**\n",
        "\n",
        "\n",
        "*   Primero debemos identificar los tipos de daros que tenemos en cuentra base de datos"
      ],
      "metadata": {
        "id": "VH1nCEOLOiJO"
      }
    },
    {
      "cell_type": "code",
      "source": [
        "import pandas as pd\n",
        "ruta = 'https://raw.githubusercontent.com/leijoha271182/Tiempos_logistica_cargue/1e2d8a12c02b91ebe749be3776d8fc3865f4100d/Data/Tiempos_Logisticos_vehiculos_de_carga_Trabajo.csv'\n",
        "df = pd.read_csv(ruta, sep=\";\")\n",
        "df.dtypes\n"
      ],
      "metadata": {
        "id": "Bzy7dfQIObp9"
      },
      "execution_count": null,
      "outputs": []
    },
    {
      "cell_type": "markdown",
      "source": [
        "\n",
        "*   Despues de identificar los valores cuantitativos que queremos evaluar con la funcion .describe() analizaremos los diferentes valores que en este caso seran\n",
        "\n",
        "HORAS_VIAJE: nos ayudara a evaluar la cantidad de horas minimas y maxima de los datos, en este caso  para entender que valores pueden estar fuera del estandar, y que el promedio es de 39.87 horas que son mas de un dia de trayecto lo que nos puede informar que los conductores deben hacer paradas para descansar, comer y parquear, por lo que nos ayudara a predecir diferentes consumos\n"
      ],
      "metadata": {
        "id": "IgqnYN8jOQmW"
      }
    },
    {
      "cell_type": "code",
      "source": [
        "import pandas as pd\n",
        "ruta = 'https://raw.githubusercontent.com/leijoha271182/Tiempos_logistica_cargue/1e2d8a12c02b91ebe749be3776d8fc3865f4100d/Data/Tiempos_Logisticos_vehiculos_de_carga_Trabajo.csv'\n",
        "df = pd.read_csv(ruta, sep=\";\")\n",
        "df['VALOR_PACTADO'].describe()"
      ],
      "metadata": {
        "colab": {
          "base_uri": "https://localhost:8080/"
        },
        "id": "oycNm8CIOxEf",
        "outputId": "03f89ac0-f9ea-46c2-9eb4-3cae9cd13166"
      },
      "execution_count": 4,
      "outputs": [
        {
          "output_type": "stream",
          "name": "stderr",
          "text": [
            "<ipython-input-4-e16c0aa177f1>:3: DtypeWarning: Columns (3) have mixed types. Specify dtype option on import or set low_memory=False.\n",
            "  df = pd.read_csv(ruta, sep=\";\")\n"
          ]
        },
        {
          "output_type": "execute_result",
          "data": {
            "text/plain": [
              "count    7.645600e+04\n",
              "mean     1.035159e+06\n",
              "std      1.511995e+06\n",
              "min      0.000000e+00\n",
              "25%      1.119200e+02\n",
              "50%      6.600000e+02\n",
              "75%      1.700000e+06\n",
              "max      3.812000e+07\n",
              "Name: VALOR_PACTADO, dtype: float64"
            ]
          },
          "metadata": {},
          "execution_count": 4
        }
      ]
    },
    {
      "cell_type": "markdown",
      "source": [
        "CANTIDAD_REMESAS_VIAJE: nos ayudara a evaluar la cantidad  minimas y maxima de los datos, en este caso  para entender que el valor minimo no se debe tener en cuenta ya que estamos hablando de un minimo de cero. Tenemos un promedio de 4 remesas por viaje, este dato seria de utilidad para las empresas transportistas para evaluar el volumen que se puede esperar por vehiculo o por ruta\n"
      ],
      "metadata": {
        "id": "qlHezWupO2vt"
      }
    },
    {
      "cell_type": "code",
      "source": [
        "import pandas as pd\n",
        "ruta = 'https://raw.githubusercontent.com/leijoha271182/Tiempos_logistica_cargue/1e2d8a12c02b91ebe749be3776d8fc3865f4100d/Data/Tiempos_Logisticos_vehiculos_de_carga_Trabajo.csv'\n",
        "df = pd.read_csv(ruta, sep=\";\")\n",
        "df['CANTIDAD_REMESAS_VIAJE'].describe()"
      ],
      "metadata": {
        "id": "GsmI-IBMO7DA"
      },
      "execution_count": null,
      "outputs": []
    },
    {
      "cell_type": "markdown",
      "source": [
        "Despues de identificar los valores cuantitativos tambien prodremos hacer un analisis de algunos valores cualitativos como son:\n",
        "CARGUE:este valor nos indicara el pareto de las cidades donde mas cargue se realizaron en la base de datos, en este caso las ciudades mas grandes o puertos de colombia"
      ],
      "metadata": {
        "id": "zG0_gtJGO8BM"
      }
    },
    {
      "cell_type": "code",
      "source": [
        "import pandas as pd\n",
        "ruta = 'https://raw.githubusercontent.com/leijoha271182/Tiempos_logistica_cargue/1e2d8a12c02b91ebe749be3776d8fc3865f4100d/Data/Tiempos_Logisticos_vehiculos_de_carga_Trabajo.csv'\n",
        "df = pd.read_csv(ruta, sep=\";\")\n",
        "frecuencia=df['CARGUE'].value_counts()\n",
        "print(frecuencia)\n"
      ],
      "metadata": {
        "id": "cOJOFqYkO_Dc"
      },
      "execution_count": null,
      "outputs": []
    },
    {
      "cell_type": "markdown",
      "source": [
        "\n",
        "DESCARGUE:este valor nos indicara el pareto de las ciudades donde mas descargue se realizaron en la base de datos, y tiene sentido que sean las ciudades mas grandes del pais\n",
        "\n"
      ],
      "metadata": {
        "id": "JgtczZCYO-zl"
      }
    },
    {
      "cell_type": "code",
      "source": [
        "import pandas as pd\n",
        "ruta = 'https://raw.githubusercontent.com/leijoha271182/Tiempos_logistica_cargue/1e2d8a12c02b91ebe749be3776d8fc3865f4100d/Data/Tiempos_Logisticos_vehiculos_de_carga_Trabajo.csv'\n",
        "df = pd.read_csv(ruta, sep=\";\")\n",
        "frecuencia=df['DESCARGUE'].value_counts()\n",
        "print(frecuencia)"
      ],
      "metadata": {
        "colab": {
          "base_uri": "https://localhost:8080/"
        },
        "id": "Wjz-NgWwPGLU",
        "outputId": "00adc818-c466-4f8b-84ef-db1346b878a6"
      },
      "execution_count": 5,
      "outputs": [
        {
          "output_type": "stream",
          "name": "stdout",
          "text": [
            "BOGOTA BOGOTA D. C.                       7721\n",
            "MEDELLIN ANTIOQUIA                        4007\n",
            "BARRANQUILLA ATLANTICO                    3798\n",
            "CALI VALLE DEL CAUCA                      3381\n",
            "CARTAGENA BOLIVAR                         2813\n",
            "                                          ... \n",
            "RAGONVALIA NORTE DE SANTANDER                1\n",
            "GUADALUPE SANTANDER                          1\n",
            "ASTILLEROS EL ZULIA NORTE DE SANTANDER       1\n",
            "GUAROMITO CUCUTA NORTE DE SANTANDER          1\n",
            "GACHANTIVA BOYACA                            1\n",
            "Name: DESCARGUE, Length: 1127, dtype: int64\n"
          ]
        },
        {
          "output_type": "stream",
          "name": "stderr",
          "text": [
            "<ipython-input-5-c48be46d8b2e>:3: DtypeWarning: Columns (3) have mixed types. Specify dtype option on import or set low_memory=False.\n",
            "  df = pd.read_csv(ruta, sep=\";\")\n"
          ]
        }
      ]
    },
    {
      "cell_type": "markdown",
      "source": [
        "NATURALEZA:este valor nos indicara el pareto del tipo de carga, y nos indica que el mayor volumen es carga normal, y este valor deria de utilidad para regulaciones de logistica y empresas de envio"
      ],
      "metadata": {
        "id": "1Wx7n_axPNnW"
      }
    },
    {
      "cell_type": "code",
      "source": [
        "import pandas as pd\n",
        "ruta = 'https://raw.githubusercontent.com/leijoha271182/Tiempos_logistica_cargue/1e2d8a12c02b91ebe749be3776d8fc3865f4100d/Data/Tiempos_Logisticos_vehiculos_de_carga_Trabajo.csv'\n",
        "df = pd.read_csv(ruta, sep=\";\")\n",
        "frecuencia=df['NATURALEZA'].value_counts()\n",
        "print(frecuencia)"
      ],
      "metadata": {
        "colab": {
          "base_uri": "https://localhost:8080/"
        },
        "id": "zslOne8mPOY0",
        "outputId": "0454f42f-19af-4000-c835-938ce8563c0a"
      },
      "execution_count": 8,
      "outputs": [
        {
          "output_type": "stream",
          "name": "stdout",
          "text": [
            "Carga Normal               69638\n",
            "Carga Peligrosa             5249\n",
            "Refrigerada                 1199\n",
            "Desechos Peligrosos          132\n",
            "Semovientes                   67\n",
            "Carga Extradimensionada        2\n",
            "Name: NATURALEZA, dtype: int64\n"
          ]
        },
        {
          "output_type": "stream",
          "name": "stderr",
          "text": [
            "<ipython-input-8-5784dcce791b>:3: DtypeWarning: Columns (3) have mixed types. Specify dtype option on import or set low_memory=False.\n",
            "  df = pd.read_csv(ruta, sep=\";\")\n"
          ]
        }
      ]
    },
    {
      "cell_type": "markdown",
      "source": [
        "Tambien podemos ver informacion cuantitativa y cualitativa al mismo tiempo, como es el valor pagado por cidudad de cargue, esta informacion nos permitira evaluar por ciudad de cargue cuales son los valores minimos, maximos y promedios que se pagaron por viaje"
      ],
      "metadata": {
        "id": "gFy-6aayPQt8"
      }
    },
    {
      "cell_type": "code",
      "source": [
        "import pandas as pd\n",
        "ruta = 'https://raw.githubusercontent.com/leijoha271182/Tiempos_logistica_cargue/1e2d8a12c02b91ebe749be3776d8fc3865f4100d/Data/Tiempos_Logisticos_vehiculos_de_carga_Trabajo.csv'\n",
        "df = pd.read_csv(ruta, sep=\";\")\n",
        "grouped_data=df.groupby('CARGUE')\n",
        "grouped_data['VALOR_PAGADO'].describe()"
      ],
      "metadata": {
        "colab": {
          "base_uri": "https://localhost:8080/",
          "height": 710
        },
        "id": "FlShyy1dPTb8",
        "outputId": "a0c90c71-b5b4-4538-e2f6-4839dec52216"
      },
      "execution_count": 7,
      "outputs": [
        {
          "output_type": "stream",
          "name": "stderr",
          "text": [
            "<ipython-input-7-5ab814bec982>:3: DtypeWarning: Columns (3) have mixed types. Specify dtype option on import or set low_memory=False.\n",
            "  df = pd.read_csv(ruta, sep=\";\")\n"
          ]
        },
        {
          "output_type": "execute_result",
          "data": {
            "text/plain": [
              "                                       count          mean           std  \\\n",
              "CARGUE                                                                     \n",
              "ABEJORRAL ANTIOQUIA                     32.0  4.282750e+04  2.386549e+05   \n",
              "ABREGO NORTE DE SANTANDER                3.0  5.001782e+05  8.658711e+05   \n",
              "ACACIAS META                            38.0  1.114485e+06  1.537066e+06   \n",
              "ACEVEDO HUILA                            2.0  1.824348e+06  2.579317e+06   \n",
              "ADJUNTAS AGUACHICA CESAR                10.0  1.480505e+06  2.835157e+04   \n",
              "...                                      ...           ...           ...   \n",
              "ZARAGOZA BUENAVENTURA VALLE DEL CAUCA   11.0  5.961636e+05  1.098476e+06   \n",
              "ZARAGOZA CARTAGO VALLE DEL CAUCA         1.0  5.500000e+02           NaN   \n",
              "ZARZAL VALLE DEL CAUCA                  60.0  1.696385e+06  2.036259e+06   \n",
              "ZIPAQUIRA CUNDINAMARCA                 161.0  7.491945e+05  1.156387e+06   \n",
              "ZONA BANANERA MAGDALENA                 66.0  4.502489e+02  9.512407e+01   \n",
              "\n",
              "                                               min           25%  \\\n",
              "CARGUE                                                             \n",
              "ABEJORRAL ANTIOQUIA                        580.966  6.260082e+02   \n",
              "ABREGO NORTE DE SANTANDER                  267.269  2.672690e+02   \n",
              "ACACIAS META                                 0.000  2.050000e+02   \n",
              "ACEVEDO HUILA                              495.000  9.124212e+05   \n",
              "ADJUNTAS AGUACHICA CESAR               1449449.000  1.460260e+06   \n",
              "...                                            ...           ...   \n",
              "ZARAGOZA BUENAVENTURA VALLE DEL CAUCA      217.750  2.177500e+02   \n",
              "ZARAGOZA CARTAGO VALLE DEL CAUCA           550.000  5.500000e+02   \n",
              "ZARZAL VALLE DEL CAUCA                       0.000  3.228340e+02   \n",
              "ZIPAQUIRA CUNDINAMARCA                       0.000  0.000000e+00   \n",
              "ZONA BANANERA MAGDALENA                    277.100  3.713575e+02   \n",
              "\n",
              "                                                50%           75%          max  \n",
              "CARGUE                                                                          \n",
              "ABEJORRAL ANTIOQUIA                    6.433505e+02  6.565980e+02  1350675.000  \n",
              "ABREGO NORTE DE SANTANDER              2.672690e+02  7.501336e+05  1500000.000  \n",
              "ACACIAS META                           9.500000e+02  1.800000e+06  4900000.000  \n",
              "ACEVEDO HUILA                          1.824348e+06  2.736274e+06  3648200.000  \n",
              "ADJUNTAS AGUACHICA CESAR               1.480261e+06  1.484020e+06  1548152.000  \n",
              "...                                             ...           ...          ...  \n",
              "ZARAGOZA BUENAVENTURA VALLE DEL CAUCA  3.143600e+02  7.878250e+05  3230000.000  \n",
              "ZARAGOZA CARTAGO VALLE DEL CAUCA       5.500000e+02  5.500000e+02      550.000  \n",
              "ZARZAL VALLE DEL CAUCA                 5.004500e+05  2.941500e+06  5892000.000  \n",
              "ZIPAQUIRA CUNDINAMARCA                 4.000000e+02  1.541700e+06  4100000.000  \n",
              "ZONA BANANERA MAGDALENA                4.488760e+02  5.190000e+02      722.275  \n",
              "\n",
              "[660 rows x 8 columns]"
            ],
            "text/html": [
              "\n",
              "  <div id=\"df-5bb5f95c-e614-4781-94c8-abf75d8d90bd\">\n",
              "    <div class=\"colab-df-container\">\n",
              "      <div>\n",
              "<style scoped>\n",
              "    .dataframe tbody tr th:only-of-type {\n",
              "        vertical-align: middle;\n",
              "    }\n",
              "\n",
              "    .dataframe tbody tr th {\n",
              "        vertical-align: top;\n",
              "    }\n",
              "\n",
              "    .dataframe thead th {\n",
              "        text-align: right;\n",
              "    }\n",
              "</style>\n",
              "<table border=\"1\" class=\"dataframe\">\n",
              "  <thead>\n",
              "    <tr style=\"text-align: right;\">\n",
              "      <th></th>\n",
              "      <th>count</th>\n",
              "      <th>mean</th>\n",
              "      <th>std</th>\n",
              "      <th>min</th>\n",
              "      <th>25%</th>\n",
              "      <th>50%</th>\n",
              "      <th>75%</th>\n",
              "      <th>max</th>\n",
              "    </tr>\n",
              "    <tr>\n",
              "      <th>CARGUE</th>\n",
              "      <th></th>\n",
              "      <th></th>\n",
              "      <th></th>\n",
              "      <th></th>\n",
              "      <th></th>\n",
              "      <th></th>\n",
              "      <th></th>\n",
              "      <th></th>\n",
              "    </tr>\n",
              "  </thead>\n",
              "  <tbody>\n",
              "    <tr>\n",
              "      <th>ABEJORRAL ANTIOQUIA</th>\n",
              "      <td>32.0</td>\n",
              "      <td>4.282750e+04</td>\n",
              "      <td>2.386549e+05</td>\n",
              "      <td>580.966</td>\n",
              "      <td>6.260082e+02</td>\n",
              "      <td>6.433505e+02</td>\n",
              "      <td>6.565980e+02</td>\n",
              "      <td>1350675.000</td>\n",
              "    </tr>\n",
              "    <tr>\n",
              "      <th>ABREGO NORTE DE SANTANDER</th>\n",
              "      <td>3.0</td>\n",
              "      <td>5.001782e+05</td>\n",
              "      <td>8.658711e+05</td>\n",
              "      <td>267.269</td>\n",
              "      <td>2.672690e+02</td>\n",
              "      <td>2.672690e+02</td>\n",
              "      <td>7.501336e+05</td>\n",
              "      <td>1500000.000</td>\n",
              "    </tr>\n",
              "    <tr>\n",
              "      <th>ACACIAS META</th>\n",
              "      <td>38.0</td>\n",
              "      <td>1.114485e+06</td>\n",
              "      <td>1.537066e+06</td>\n",
              "      <td>0.000</td>\n",
              "      <td>2.050000e+02</td>\n",
              "      <td>9.500000e+02</td>\n",
              "      <td>1.800000e+06</td>\n",
              "      <td>4900000.000</td>\n",
              "    </tr>\n",
              "    <tr>\n",
              "      <th>ACEVEDO HUILA</th>\n",
              "      <td>2.0</td>\n",
              "      <td>1.824348e+06</td>\n",
              "      <td>2.579317e+06</td>\n",
              "      <td>495.000</td>\n",
              "      <td>9.124212e+05</td>\n",
              "      <td>1.824348e+06</td>\n",
              "      <td>2.736274e+06</td>\n",
              "      <td>3648200.000</td>\n",
              "    </tr>\n",
              "    <tr>\n",
              "      <th>ADJUNTAS AGUACHICA CESAR</th>\n",
              "      <td>10.0</td>\n",
              "      <td>1.480505e+06</td>\n",
              "      <td>2.835157e+04</td>\n",
              "      <td>1449449.000</td>\n",
              "      <td>1.460260e+06</td>\n",
              "      <td>1.480261e+06</td>\n",
              "      <td>1.484020e+06</td>\n",
              "      <td>1548152.000</td>\n",
              "    </tr>\n",
              "    <tr>\n",
              "      <th>...</th>\n",
              "      <td>...</td>\n",
              "      <td>...</td>\n",
              "      <td>...</td>\n",
              "      <td>...</td>\n",
              "      <td>...</td>\n",
              "      <td>...</td>\n",
              "      <td>...</td>\n",
              "      <td>...</td>\n",
              "    </tr>\n",
              "    <tr>\n",
              "      <th>ZARAGOZA BUENAVENTURA VALLE DEL CAUCA</th>\n",
              "      <td>11.0</td>\n",
              "      <td>5.961636e+05</td>\n",
              "      <td>1.098476e+06</td>\n",
              "      <td>217.750</td>\n",
              "      <td>2.177500e+02</td>\n",
              "      <td>3.143600e+02</td>\n",
              "      <td>7.878250e+05</td>\n",
              "      <td>3230000.000</td>\n",
              "    </tr>\n",
              "    <tr>\n",
              "      <th>ZARAGOZA CARTAGO VALLE DEL CAUCA</th>\n",
              "      <td>1.0</td>\n",
              "      <td>5.500000e+02</td>\n",
              "      <td>NaN</td>\n",
              "      <td>550.000</td>\n",
              "      <td>5.500000e+02</td>\n",
              "      <td>5.500000e+02</td>\n",
              "      <td>5.500000e+02</td>\n",
              "      <td>550.000</td>\n",
              "    </tr>\n",
              "    <tr>\n",
              "      <th>ZARZAL VALLE DEL CAUCA</th>\n",
              "      <td>60.0</td>\n",
              "      <td>1.696385e+06</td>\n",
              "      <td>2.036259e+06</td>\n",
              "      <td>0.000</td>\n",
              "      <td>3.228340e+02</td>\n",
              "      <td>5.004500e+05</td>\n",
              "      <td>2.941500e+06</td>\n",
              "      <td>5892000.000</td>\n",
              "    </tr>\n",
              "    <tr>\n",
              "      <th>ZIPAQUIRA CUNDINAMARCA</th>\n",
              "      <td>161.0</td>\n",
              "      <td>7.491945e+05</td>\n",
              "      <td>1.156387e+06</td>\n",
              "      <td>0.000</td>\n",
              "      <td>0.000000e+00</td>\n",
              "      <td>4.000000e+02</td>\n",
              "      <td>1.541700e+06</td>\n",
              "      <td>4100000.000</td>\n",
              "    </tr>\n",
              "    <tr>\n",
              "      <th>ZONA BANANERA MAGDALENA</th>\n",
              "      <td>66.0</td>\n",
              "      <td>4.502489e+02</td>\n",
              "      <td>9.512407e+01</td>\n",
              "      <td>277.100</td>\n",
              "      <td>3.713575e+02</td>\n",
              "      <td>4.488760e+02</td>\n",
              "      <td>5.190000e+02</td>\n",
              "      <td>722.275</td>\n",
              "    </tr>\n",
              "  </tbody>\n",
              "</table>\n",
              "<p>660 rows × 8 columns</p>\n",
              "</div>\n",
              "      <button class=\"colab-df-convert\" onclick=\"convertToInteractive('df-5bb5f95c-e614-4781-94c8-abf75d8d90bd')\"\n",
              "              title=\"Convert this dataframe to an interactive table.\"\n",
              "              style=\"display:none;\">\n",
              "        \n",
              "  <svg xmlns=\"http://www.w3.org/2000/svg\" height=\"24px\"viewBox=\"0 0 24 24\"\n",
              "       width=\"24px\">\n",
              "    <path d=\"M0 0h24v24H0V0z\" fill=\"none\"/>\n",
              "    <path d=\"M18.56 5.44l.94 2.06.94-2.06 2.06-.94-2.06-.94-.94-2.06-.94 2.06-2.06.94zm-11 1L8.5 8.5l.94-2.06 2.06-.94-2.06-.94L8.5 2.5l-.94 2.06-2.06.94zm10 10l.94 2.06.94-2.06 2.06-.94-2.06-.94-.94-2.06-.94 2.06-2.06.94z\"/><path d=\"M17.41 7.96l-1.37-1.37c-.4-.4-.92-.59-1.43-.59-.52 0-1.04.2-1.43.59L10.3 9.45l-7.72 7.72c-.78.78-.78 2.05 0 2.83L4 21.41c.39.39.9.59 1.41.59.51 0 1.02-.2 1.41-.59l7.78-7.78 2.81-2.81c.8-.78.8-2.07 0-2.86zM5.41 20L4 18.59l7.72-7.72 1.47 1.35L5.41 20z\"/>\n",
              "  </svg>\n",
              "      </button>\n",
              "      \n",
              "  <style>\n",
              "    .colab-df-container {\n",
              "      display:flex;\n",
              "      flex-wrap:wrap;\n",
              "      gap: 12px;\n",
              "    }\n",
              "\n",
              "    .colab-df-convert {\n",
              "      background-color: #E8F0FE;\n",
              "      border: none;\n",
              "      border-radius: 50%;\n",
              "      cursor: pointer;\n",
              "      display: none;\n",
              "      fill: #1967D2;\n",
              "      height: 32px;\n",
              "      padding: 0 0 0 0;\n",
              "      width: 32px;\n",
              "    }\n",
              "\n",
              "    .colab-df-convert:hover {\n",
              "      background-color: #E2EBFA;\n",
              "      box-shadow: 0px 1px 2px rgba(60, 64, 67, 0.3), 0px 1px 3px 1px rgba(60, 64, 67, 0.15);\n",
              "      fill: #174EA6;\n",
              "    }\n",
              "\n",
              "    [theme=dark] .colab-df-convert {\n",
              "      background-color: #3B4455;\n",
              "      fill: #D2E3FC;\n",
              "    }\n",
              "\n",
              "    [theme=dark] .colab-df-convert:hover {\n",
              "      background-color: #434B5C;\n",
              "      box-shadow: 0px 1px 3px 1px rgba(0, 0, 0, 0.15);\n",
              "      filter: drop-shadow(0px 1px 2px rgba(0, 0, 0, 0.3));\n",
              "      fill: #FFFFFF;\n",
              "    }\n",
              "  </style>\n",
              "\n",
              "      <script>\n",
              "        const buttonEl =\n",
              "          document.querySelector('#df-5bb5f95c-e614-4781-94c8-abf75d8d90bd button.colab-df-convert');\n",
              "        buttonEl.style.display =\n",
              "          google.colab.kernel.accessAllowed ? 'block' : 'none';\n",
              "\n",
              "        async function convertToInteractive(key) {\n",
              "          const element = document.querySelector('#df-5bb5f95c-e614-4781-94c8-abf75d8d90bd');\n",
              "          const dataTable =\n",
              "            await google.colab.kernel.invokeFunction('convertToInteractive',\n",
              "                                                     [key], {});\n",
              "          if (!dataTable) return;\n",
              "\n",
              "          const docLinkHtml = 'Like what you see? Visit the ' +\n",
              "            '<a target=\"_blank\" href=https://colab.research.google.com/notebooks/data_table.ipynb>data table notebook</a>'\n",
              "            + ' to learn more about interactive tables.';\n",
              "          element.innerHTML = '';\n",
              "          dataTable['output_type'] = 'display_data';\n",
              "          await google.colab.output.renderOutput(dataTable, element);\n",
              "          const docLink = document.createElement('div');\n",
              "          docLink.innerHTML = docLinkHtml;\n",
              "          element.appendChild(docLink);\n",
              "        }\n",
              "      </script>\n",
              "    </div>\n",
              "  </div>\n",
              "  "
            ]
          },
          "metadata": {},
          "execution_count": 7
        }
      ]
    },
    {
      "cell_type": "markdown",
      "source": [
        "o la cantidad de remesas por ciudad de descargue"
      ],
      "metadata": {
        "id": "cSwLWoEVPV50"
      }
    },
    {
      "cell_type": "code",
      "source": [
        "import pandas as pd\n",
        "ruta = 'https://raw.githubusercontent.com/leijoha271182/Tiempos_logistica_cargue/1e2d8a12c02b91ebe749be3776d8fc3865f4100d/Data/Tiempos_Logisticos_vehiculos_de_carga_Trabajo.csv'\n",
        "df = pd.read_csv(ruta, sep=\";\")\n",
        "grouped_data=df.groupby('DESCARGUE')\n",
        "grouped_data['CANTIDAD_REMESAS_VIAJE'].describe()"
      ],
      "metadata": {
        "colab": {
          "base_uri": "https://localhost:8080/",
          "height": 510
        },
        "id": "ZQjISIISPYic",
        "outputId": "501283bd-3d7d-41a3-a957-ffd56801749b"
      },
      "execution_count": 6,
      "outputs": [
        {
          "output_type": "stream",
          "name": "stderr",
          "text": [
            "<ipython-input-6-2fc7641711e3>:3: DtypeWarning: Columns (3) have mixed types. Specify dtype option on import or set low_memory=False.\n",
            "  df = pd.read_csv(ruta, sep=\";\")\n"
          ]
        },
        {
          "output_type": "execute_result",
          "data": {
            "text/plain": [
              "                                       count      mean       std  min  25%  \\\n",
              "DESCARGUE                                                                    \n",
              "ABEJORRAL ANTIOQUIA                      7.0  1.857143  1.463850  1.0  1.0   \n",
              "ABREGO NORTE DE SANTANDER               19.0  3.263158  2.940939  1.0  1.0   \n",
              "ACACIAS META                           115.0  1.643478  1.545743  1.0  1.0   \n",
              "ACEVEDO HUILA                            7.0  1.000000  0.000000  1.0  1.0   \n",
              "ACHI BOLIVAR                             1.0  1.000000       NaN  1.0  1.0   \n",
              "...                                      ...       ...       ...  ...  ...   \n",
              "ZARAGOZA BUENAVENTURA VALLE DEL CAUCA   13.0  1.000000  0.000000  1.0  1.0   \n",
              "ZARZAL VALLE DEL CAUCA                  53.0  1.396226  0.768105  1.0  1.0   \n",
              "ZIPACON CUNDINAMARCA                     2.0  1.000000  0.000000  1.0  1.0   \n",
              "ZIPAQUIRA CUNDINAMARCA                 296.0  2.341216  3.454566  0.0  1.0   \n",
              "ZONA BANANERA MAGDALENA                 11.0  1.000000  0.000000  1.0  1.0   \n",
              "\n",
              "                                       50%  75%   max  \n",
              "DESCARGUE                                              \n",
              "ABEJORRAL ANTIOQUIA                    1.0  2.0   5.0  \n",
              "ABREGO NORTE DE SANTANDER              1.0  7.0   7.0  \n",
              "ACACIAS META                           1.0  1.0   7.0  \n",
              "ACEVEDO HUILA                          1.0  1.0   1.0  \n",
              "ACHI BOLIVAR                           1.0  1.0   1.0  \n",
              "...                                    ...  ...   ...  \n",
              "ZARAGOZA BUENAVENTURA VALLE DEL CAUCA  1.0  1.0   1.0  \n",
              "ZARZAL VALLE DEL CAUCA                 1.0  1.0   4.0  \n",
              "ZIPACON CUNDINAMARCA                   1.0  1.0   1.0  \n",
              "ZIPAQUIRA CUNDINAMARCA                 1.0  1.0  14.0  \n",
              "ZONA BANANERA MAGDALENA                1.0  1.0   1.0  \n",
              "\n",
              "[1127 rows x 8 columns]"
            ],
            "text/html": [
              "\n",
              "  <div id=\"df-2ae58030-ec6d-4599-b14b-52bbd71d8848\">\n",
              "    <div class=\"colab-df-container\">\n",
              "      <div>\n",
              "<style scoped>\n",
              "    .dataframe tbody tr th:only-of-type {\n",
              "        vertical-align: middle;\n",
              "    }\n",
              "\n",
              "    .dataframe tbody tr th {\n",
              "        vertical-align: top;\n",
              "    }\n",
              "\n",
              "    .dataframe thead th {\n",
              "        text-align: right;\n",
              "    }\n",
              "</style>\n",
              "<table border=\"1\" class=\"dataframe\">\n",
              "  <thead>\n",
              "    <tr style=\"text-align: right;\">\n",
              "      <th></th>\n",
              "      <th>count</th>\n",
              "      <th>mean</th>\n",
              "      <th>std</th>\n",
              "      <th>min</th>\n",
              "      <th>25%</th>\n",
              "      <th>50%</th>\n",
              "      <th>75%</th>\n",
              "      <th>max</th>\n",
              "    </tr>\n",
              "    <tr>\n",
              "      <th>DESCARGUE</th>\n",
              "      <th></th>\n",
              "      <th></th>\n",
              "      <th></th>\n",
              "      <th></th>\n",
              "      <th></th>\n",
              "      <th></th>\n",
              "      <th></th>\n",
              "      <th></th>\n",
              "    </tr>\n",
              "  </thead>\n",
              "  <tbody>\n",
              "    <tr>\n",
              "      <th>ABEJORRAL ANTIOQUIA</th>\n",
              "      <td>7.0</td>\n",
              "      <td>1.857143</td>\n",
              "      <td>1.463850</td>\n",
              "      <td>1.0</td>\n",
              "      <td>1.0</td>\n",
              "      <td>1.0</td>\n",
              "      <td>2.0</td>\n",
              "      <td>5.0</td>\n",
              "    </tr>\n",
              "    <tr>\n",
              "      <th>ABREGO NORTE DE SANTANDER</th>\n",
              "      <td>19.0</td>\n",
              "      <td>3.263158</td>\n",
              "      <td>2.940939</td>\n",
              "      <td>1.0</td>\n",
              "      <td>1.0</td>\n",
              "      <td>1.0</td>\n",
              "      <td>7.0</td>\n",
              "      <td>7.0</td>\n",
              "    </tr>\n",
              "    <tr>\n",
              "      <th>ACACIAS META</th>\n",
              "      <td>115.0</td>\n",
              "      <td>1.643478</td>\n",
              "      <td>1.545743</td>\n",
              "      <td>1.0</td>\n",
              "      <td>1.0</td>\n",
              "      <td>1.0</td>\n",
              "      <td>1.0</td>\n",
              "      <td>7.0</td>\n",
              "    </tr>\n",
              "    <tr>\n",
              "      <th>ACEVEDO HUILA</th>\n",
              "      <td>7.0</td>\n",
              "      <td>1.000000</td>\n",
              "      <td>0.000000</td>\n",
              "      <td>1.0</td>\n",
              "      <td>1.0</td>\n",
              "      <td>1.0</td>\n",
              "      <td>1.0</td>\n",
              "      <td>1.0</td>\n",
              "    </tr>\n",
              "    <tr>\n",
              "      <th>ACHI BOLIVAR</th>\n",
              "      <td>1.0</td>\n",
              "      <td>1.000000</td>\n",
              "      <td>NaN</td>\n",
              "      <td>1.0</td>\n",
              "      <td>1.0</td>\n",
              "      <td>1.0</td>\n",
              "      <td>1.0</td>\n",
              "      <td>1.0</td>\n",
              "    </tr>\n",
              "    <tr>\n",
              "      <th>...</th>\n",
              "      <td>...</td>\n",
              "      <td>...</td>\n",
              "      <td>...</td>\n",
              "      <td>...</td>\n",
              "      <td>...</td>\n",
              "      <td>...</td>\n",
              "      <td>...</td>\n",
              "      <td>...</td>\n",
              "    </tr>\n",
              "    <tr>\n",
              "      <th>ZARAGOZA BUENAVENTURA VALLE DEL CAUCA</th>\n",
              "      <td>13.0</td>\n",
              "      <td>1.000000</td>\n",
              "      <td>0.000000</td>\n",
              "      <td>1.0</td>\n",
              "      <td>1.0</td>\n",
              "      <td>1.0</td>\n",
              "      <td>1.0</td>\n",
              "      <td>1.0</td>\n",
              "    </tr>\n",
              "    <tr>\n",
              "      <th>ZARZAL VALLE DEL CAUCA</th>\n",
              "      <td>53.0</td>\n",
              "      <td>1.396226</td>\n",
              "      <td>0.768105</td>\n",
              "      <td>1.0</td>\n",
              "      <td>1.0</td>\n",
              "      <td>1.0</td>\n",
              "      <td>1.0</td>\n",
              "      <td>4.0</td>\n",
              "    </tr>\n",
              "    <tr>\n",
              "      <th>ZIPACON CUNDINAMARCA</th>\n",
              "      <td>2.0</td>\n",
              "      <td>1.000000</td>\n",
              "      <td>0.000000</td>\n",
              "      <td>1.0</td>\n",
              "      <td>1.0</td>\n",
              "      <td>1.0</td>\n",
              "      <td>1.0</td>\n",
              "      <td>1.0</td>\n",
              "    </tr>\n",
              "    <tr>\n",
              "      <th>ZIPAQUIRA CUNDINAMARCA</th>\n",
              "      <td>296.0</td>\n",
              "      <td>2.341216</td>\n",
              "      <td>3.454566</td>\n",
              "      <td>0.0</td>\n",
              "      <td>1.0</td>\n",
              "      <td>1.0</td>\n",
              "      <td>1.0</td>\n",
              "      <td>14.0</td>\n",
              "    </tr>\n",
              "    <tr>\n",
              "      <th>ZONA BANANERA MAGDALENA</th>\n",
              "      <td>11.0</td>\n",
              "      <td>1.000000</td>\n",
              "      <td>0.000000</td>\n",
              "      <td>1.0</td>\n",
              "      <td>1.0</td>\n",
              "      <td>1.0</td>\n",
              "      <td>1.0</td>\n",
              "      <td>1.0</td>\n",
              "    </tr>\n",
              "  </tbody>\n",
              "</table>\n",
              "<p>1127 rows × 8 columns</p>\n",
              "</div>\n",
              "      <button class=\"colab-df-convert\" onclick=\"convertToInteractive('df-2ae58030-ec6d-4599-b14b-52bbd71d8848')\"\n",
              "              title=\"Convert this dataframe to an interactive table.\"\n",
              "              style=\"display:none;\">\n",
              "        \n",
              "  <svg xmlns=\"http://www.w3.org/2000/svg\" height=\"24px\"viewBox=\"0 0 24 24\"\n",
              "       width=\"24px\">\n",
              "    <path d=\"M0 0h24v24H0V0z\" fill=\"none\"/>\n",
              "    <path d=\"M18.56 5.44l.94 2.06.94-2.06 2.06-.94-2.06-.94-.94-2.06-.94 2.06-2.06.94zm-11 1L8.5 8.5l.94-2.06 2.06-.94-2.06-.94L8.5 2.5l-.94 2.06-2.06.94zm10 10l.94 2.06.94-2.06 2.06-.94-2.06-.94-.94-2.06-.94 2.06-2.06.94z\"/><path d=\"M17.41 7.96l-1.37-1.37c-.4-.4-.92-.59-1.43-.59-.52 0-1.04.2-1.43.59L10.3 9.45l-7.72 7.72c-.78.78-.78 2.05 0 2.83L4 21.41c.39.39.9.59 1.41.59.51 0 1.02-.2 1.41-.59l7.78-7.78 2.81-2.81c.8-.78.8-2.07 0-2.86zM5.41 20L4 18.59l7.72-7.72 1.47 1.35L5.41 20z\"/>\n",
              "  </svg>\n",
              "      </button>\n",
              "      \n",
              "  <style>\n",
              "    .colab-df-container {\n",
              "      display:flex;\n",
              "      flex-wrap:wrap;\n",
              "      gap: 12px;\n",
              "    }\n",
              "\n",
              "    .colab-df-convert {\n",
              "      background-color: #E8F0FE;\n",
              "      border: none;\n",
              "      border-radius: 50%;\n",
              "      cursor: pointer;\n",
              "      display: none;\n",
              "      fill: #1967D2;\n",
              "      height: 32px;\n",
              "      padding: 0 0 0 0;\n",
              "      width: 32px;\n",
              "    }\n",
              "\n",
              "    .colab-df-convert:hover {\n",
              "      background-color: #E2EBFA;\n",
              "      box-shadow: 0px 1px 2px rgba(60, 64, 67, 0.3), 0px 1px 3px 1px rgba(60, 64, 67, 0.15);\n",
              "      fill: #174EA6;\n",
              "    }\n",
              "\n",
              "    [theme=dark] .colab-df-convert {\n",
              "      background-color: #3B4455;\n",
              "      fill: #D2E3FC;\n",
              "    }\n",
              "\n",
              "    [theme=dark] .colab-df-convert:hover {\n",
              "      background-color: #434B5C;\n",
              "      box-shadow: 0px 1px 3px 1px rgba(0, 0, 0, 0.15);\n",
              "      filter: drop-shadow(0px 1px 2px rgba(0, 0, 0, 0.3));\n",
              "      fill: #FFFFFF;\n",
              "    }\n",
              "  </style>\n",
              "\n",
              "      <script>\n",
              "        const buttonEl =\n",
              "          document.querySelector('#df-2ae58030-ec6d-4599-b14b-52bbd71d8848 button.colab-df-convert');\n",
              "        buttonEl.style.display =\n",
              "          google.colab.kernel.accessAllowed ? 'block' : 'none';\n",
              "\n",
              "        async function convertToInteractive(key) {\n",
              "          const element = document.querySelector('#df-2ae58030-ec6d-4599-b14b-52bbd71d8848');\n",
              "          const dataTable =\n",
              "            await google.colab.kernel.invokeFunction('convertToInteractive',\n",
              "                                                     [key], {});\n",
              "          if (!dataTable) return;\n",
              "\n",
              "          const docLinkHtml = 'Like what you see? Visit the ' +\n",
              "            '<a target=\"_blank\" href=https://colab.research.google.com/notebooks/data_table.ipynb>data table notebook</a>'\n",
              "            + ' to learn more about interactive tables.';\n",
              "          element.innerHTML = '';\n",
              "          dataTable['output_type'] = 'display_data';\n",
              "          await google.colab.output.renderOutput(dataTable, element);\n",
              "          const docLink = document.createElement('div');\n",
              "          docLink.innerHTML = docLinkHtml;\n",
              "          element.appendChild(docLink);\n",
              "        }\n",
              "      </script>\n",
              "    </div>\n",
              "  </div>\n",
              "  "
            ]
          },
          "metadata": {},
          "execution_count": 6
        }
      ]
    },
    {
      "cell_type": "markdown",
      "source": [
        "## **Respuestas a Ruta Metodológica:**\n",
        "\n",
        "##   ¿Qué uso podríamos darle al dataset?\n",
        "\n",
        "<div style=\"text-align: right\">\n",
        "\n",
        "* Realizar un análisis del tiempo de uso de los vehículos por parte de las transportadoras, uso de datos para programación de mantenimiento de los vehículos, seguimiento de los vehículos por transportadora\n",
        "*Las trasportadoras podrían realizar Benchmark de los tiempos de viaje de la competencia, y de los valores pagador por viaje\n",
        "*Horas de cargue y descargue nos ayudara para que las empresas transportadoras ofrezcan mejoras en la planeación logística de las empresas donde prestan su servicio\n",
        "*Si evaluamos los tiempos de espera en las diferentes ciudades de descargue y cargue nos ayudara a evaluar la necesidad restaurantes, paraderos, parqueaderos, estaciones de gasolina y hoteles\n",
        "*Los tiempos de viaje en las diferentes rutas nos pueden dar un indicio de las rutas que requerirán mantenimiento o nos ayudaran a evaluar la necesidad de incorporar nuevas rutas o incluso evaluar alternativas logísticas </div>\n",
        "\n",
        "\n",
        "##   ¿Existe alguna relación entre las columnas del documento?\n",
        "\n",
        "Como vimos en el analisis de los datos este dataset tiene muchos usos y para esto es necesario cruzar infromacion y entre los que queremos resaltar estan\n",
        "\n",
        "*   Ciudad vs valor pagado, entendiendo que los valor más altos son de los puertos de Colombia\n",
        "*Ciudad de cargue vs cantidad de viajes, el valor más alto sale de las ciudades empresariales y puertos de Colombia\n",
        "*Ciudad de descargue vs cantidad de viajes, el valor más alto esta en las ciudades más grandes y puertos\n",
        "*Ciudad de descargue vs cantidad de remesas el valor más alto esta en las ciudades más grandes\n",
        "\n",
        "##   ¿Qué podríamos predecir o clasificar usando estos datos?\n",
        "\n",
        "*   El crecimiento de venta de cierta industria  por el movimiento de mercancía\n",
        "*Las rutas que requerirán mantenimiento más pronto\n",
        "*El crecimiento de una ciudad al aumento de descargues\n",
        "*El crecimiento de una economía de un país\n",
        "*Consumo de combustible por zonas\n",
        "*El tipo de vehiculos que se requerien si se aumenta la produccion o venta de cierto producto\n",
        "*Los vehiculos que requerirán mantenimiento más pronto\n",
        "* Los impuestos que pueden aumentar para el siguiente año de acuerdo a los valores pagados\n",
        "* El volumen de envias a ciertas ciudades\n",
        "* Segun los tiempos de espera y de viaje se pueden sacar informacion para predecir el consumo de lugares para descansar, comer y parquear que existen en lugares de cargue o descargue\n",
        "\n",
        "##   ¿Qué observaciones tienes de la pagina de donde descargaste la información?\n",
        "<div style=\"text-align: right\"> Los datos abiertos son información pública dispuesta en formatos que permiten su uso y reutilización bajo licencia abierta y sin restricciones legales para su aprovechamiento. En Colombia, la Ley 1712 de 2014 de la Ley de Transparencia y del Derecho de Acceso a la Información Pública Nacional.\n",
        "\n",
        "Desde 2021 el Ministerio TIC ha venido trabajando en la mejora de los conjuntos de datos en portal de Datos Abiertos, dentro de la ejecución del proyecto encaminado a Diseñar e Implementar la estrategia de calidad de datos abiertos, a partir de la hoja de ruta y el análisis de la calidad de los datos del portal datos.gov.co, incluyendo la migración, puesta en operación y el acompañamiento técnico especializado sobre la herramienta de calidad de datos y la mejora al material, talleres de formación y capacitación, que permita el avance en la apertura, calidad, uso y explotación de los datos públicos del estado se incluyen las labores de analítica, monitoreo y mejora continua de la calidad de los conjuntos de datos publicados en el portal de datos abiertos.\n",
        "\n",
        "Dentro de la ejecución del proyecto encaminado a Diseñar e Implementar la estrategia de calidad de datos abiertos, a partir de la hoja de ruta y el análisis de la calidad de los datos del portal datos.gov.co, incluyendo la migración, puesta en operación y el acompañamiento técnico especializado sobre la herramienta de calidad de datos y la mejora al material, talleres de formación y capacitación, que permita el avance en la apertura, calidad, uso y explotación de los datos públicos del estado, se incluyen las labores encaminadas a mejorar la calidad de los conjuntos de datos publicados en el portal mediante el análisis de la Metadata de dichos conjuntos y la solución a los errores frecuentes, presentados en este componente. En el presente documento se registran las actividades relacionadas con estas labores y sus resultados.  </div>\n",
        "\n",
        "\n",
        "## **Conclusiones:**\n",
        "<div style=\"text-align: right\">\n",
        "\n",
        "* La base de datos publica de Colombia está al alcance de todos desde el 2007, brindado información de las diferentes entidades del gobierno, entre ellas el manejo de algunos de los recursos públicos y contrataciones, y así mostrar a la población lo transparencia en estos procesos, tenemos igual que ser críticos con la información y la forma como se suben estos datos.\n",
        "\n",
        "* La calidad de los datos  de los dataset usados es de gran importancia, porque de ello dependerá la credibilidad de las evaluaciones, análisis y conclusiones que se saquen de los mismos, la búsqueda de los mismo es una tarea que se le debe dar relevancia y no se debe tomar a la ligera, ya que representara casi el 50% del trabajo que se vaya a realizar por que según lo bueno de los datos será de fácil o difícil completar el 100% de la tarea.\n",
        "\n",
        "* El uso de dataset para el análisis de datos con la herramienta Python, nos ayudara a dar respuesta a las preguntas de relevancia, relación, clasificación y predicción que se tengan sobre una base de datos, y de una forma rápida, ya que la herramienta nos permite hacer evaluaciones que los humanos no podemos ver a simple vista.\n",
        "* Pandas es una de las librerías más importantes para la ciencia de datos, ya que nos permite el análisis de tablas tipo Excel o tablas de bases de datos y está especializada en el manejo y análisis de la estructura de datos y una de las herramientas más sencillas para hacerlo. </div>"
      ],
      "metadata": {
        "id": "jsPDH5eTbWS2"
      }
    },
    {
      "cell_type": "markdown",
      "source": [
        "<div align=\"left\"><h2>BIBLIOGRAFÍA</h2>\n",
        "<p>Datos.gov.co. (2021). Tiempos Logísticos de cada viaje de vehículos de carga por territorio nacional. Recuperado de https://www.datos.gov.co/Transporte/Tiempos-Log-sticos-de-cada-viaje-de-veh-culos-de-c/tfrd-amb4</p></div>\n",
        "\n",
        "\n",
        "\n",
        "\n"
      ],
      "metadata": {
        "id": "p_c8FPYQRgMr"
      }
    },
    {
      "cell_type": "code",
      "source": [],
      "metadata": {
        "id": "AspLQ0bobV4P"
      },
      "execution_count": null,
      "outputs": []
    }
  ]
}